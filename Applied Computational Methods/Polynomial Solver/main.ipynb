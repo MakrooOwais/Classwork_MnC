{
 "cells": [
  {
   "cell_type": "code",
   "execution_count": 52,
   "metadata": {},
   "outputs": [],
   "source": [
    "import numpy as np\n",
    "import sympy\n",
    "\n",
    "import torch"
   ]
  },
  {
   "cell_type": "code",
   "execution_count": 74,
   "metadata": {},
   "outputs": [
    {
     "data": {
      "text/latex": [
       "$\\displaystyle \\operatorname{Poly}{\\left( x^{4} - 8 x^{3} + 17 x^{2} + 2 x - 24, x, domain=\\mathbb{Z} \\right)}$"
      ],
      "text/plain": [
       "Poly(x**4 - 8*x**3 + 17*x**2 + 2*x - 24, x, domain='ZZ')"
      ]
     },
     "execution_count": 74,
     "metadata": {},
     "output_type": "execute_result"
    }
   ],
   "source": [
    "x = sympy.symbols('x')\n",
    "\n",
    "poly = sympy.poly(-24 + 2*x + 17*x**2 - 8*x**3 + x**4)\n",
    "poly"
   ]
  },
  {
   "cell_type": "code",
   "execution_count": 75,
   "metadata": {},
   "outputs": [
    {
     "data": {
      "text/plain": [
       "tensor([-24.,   2.,  17.,  -8.,   1.])"
      ]
     },
     "execution_count": 75,
     "metadata": {},
     "output_type": "execute_result"
    }
   ],
   "source": [
    "coeffs = torch.flip(torch.Tensor(poly.coeffs()), dims = (0, ))\n",
    "coeffs"
   ]
  },
  {
   "cell_type": "code",
   "execution_count": 76,
   "metadata": {},
   "outputs": [],
   "source": [
    "n = len(coeffs) - 1\n",
    "C = torch.zeros((n, n))\n",
    "\n",
    "for i in range(0, n-1):\n",
    "    C[i, i+1] = 1\n",
    "    \n",
    "C[n-1, :] = -1 * coeffs[:-1]"
   ]
  },
  {
   "cell_type": "code",
   "execution_count": 77,
   "metadata": {},
   "outputs": [
    {
     "name": "stdout",
     "output_type": "stream",
     "text": [
      "tensor([0., 1., 0., 0.])\n",
      "tensor([0., 0., 1., 0.])\n",
      "tensor([0., 0., 0., 1.])\n",
      "tensor([ 24.,  -2., -17.,   8.])\n"
     ]
    }
   ],
   "source": [
    "for l in C:\n",
    "    print(l)"
   ]
  },
  {
   "cell_type": "code",
   "execution_count": 78,
   "metadata": {},
   "outputs": [
    {
     "data": {
      "text/plain": [
       "tensor([-1.0000+0.j,  4.0000+0.j,  3.0000+0.j,  2.0000+0.j])"
      ]
     },
     "execution_count": 78,
     "metadata": {},
     "output_type": "execute_result"
    }
   ],
   "source": [
    "torch.linalg.eig(C)[0]"
   ]
  },
  {
   "cell_type": "code",
   "execution_count": null,
   "metadata": {},
   "outputs": [],
   "source": []
  }
 ],
 "metadata": {
  "kernelspec": {
   "display_name": "maths",
   "language": "python",
   "name": "python3"
  },
  "language_info": {
   "codemirror_mode": {
    "name": "ipython",
    "version": 3
   },
   "file_extension": ".py",
   "mimetype": "text/x-python",
   "name": "python",
   "nbconvert_exporter": "python",
   "pygments_lexer": "ipython3",
   "version": "3.11.4"
  }
 },
 "nbformat": 4,
 "nbformat_minor": 2
}
