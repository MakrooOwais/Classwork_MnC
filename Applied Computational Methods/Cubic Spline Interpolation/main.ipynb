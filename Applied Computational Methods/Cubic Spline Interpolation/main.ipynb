{
 "cells": [
  {
   "cell_type": "code",
   "execution_count": 48,
   "metadata": {},
   "outputs": [],
   "source": [
    "import numpy as np\n",
    "from matplotlib import pyplot as plt"
   ]
  },
  {
   "cell_type": "code",
   "execution_count": 49,
   "metadata": {},
   "outputs": [],
   "source": [
    "x = np.array([1, 2, 3, 4])\n",
    "f_x = np.array([1.5, 2.2, 3.1, 4.3])\n",
    "M_0, M_n = 0, 0\n",
    "h = 2 - 1"
   ]
  },
  {
   "cell_type": "code",
   "execution_count": 50,
   "metadata": {},
   "outputs": [],
   "source": [
    "n = len(x)"
   ]
  },
  {
   "cell_type": "code",
   "execution_count": 51,
   "metadata": {},
   "outputs": [],
   "source": [
    "A = np.zeros((len(x), len(x)))\n",
    "A[0, 0] = 1\n",
    "A[-1, -1] = 1\n",
    "\n",
    "for i in range(1, n-1):\n",
    "    A[i, i-1:i+2] = np.array([1,4,1])"
   ]
  },
  {
   "cell_type": "code",
   "execution_count": 52,
   "metadata": {},
   "outputs": [],
   "source": [
    "D = np.zeros((len(x), 1))\n",
    "D[0][0], D[-1][0] = M_0, M_n\n",
    "for i in range(1, n - 1):\n",
    "    D[i][0] = 6 * (f_x[i + 1] - 2 * f_x[i] + f_x[i - 1]) / (h**2)"
   ]
  },
  {
   "cell_type": "code",
   "execution_count": 53,
   "metadata": {},
   "outputs": [],
   "source": [
    "M = ((np.linalg.inv(A) @ D))"
   ]
  },
  {
   "cell_type": "code",
   "execution_count": 54,
   "metadata": {},
   "outputs": [
    {
     "data": {
      "text/plain": [
       "array([[0. ],\n",
       "       [0.2],\n",
       "       [0.4],\n",
       "       [0. ]])"
      ]
     },
     "execution_count": 54,
     "metadata": {},
     "output_type": "execute_result"
    }
   ],
   "source": [
    "M"
   ]
  },
  {
   "cell_type": "code",
   "execution_count": 55,
   "metadata": {},
   "outputs": [],
   "source": [
    "target_x = 1.2\n",
    "diff = ((target_x - x) > 0) * (target_x - x)\n",
    "diff += ((target_x - x) <= 0) * (np.max(diff) + 1)\n",
    "\n",
    "idx = np.argmin(diff)"
   ]
  },
  {
   "cell_type": "code",
   "execution_count": 56,
   "metadata": {},
   "outputs": [],
   "source": [
    "value_1 = M[idx] * (((x[idx + 1] - target_x) ** 3) / h - h * (x[idx + 1] - target_x)) / 6\n",
    "value_2 = f_x[idx] * (x[idx + 1] - target_x) / h\n",
    "value_3 = M[idx + 1] * (((target_x - x[idx]) ** 3) / h - h * (target_x - x[idx])) / 6\n",
    "value_4 = f_x[idx + 1] * (target_x - x[idx]) / h"
   ]
  },
  {
   "cell_type": "code",
   "execution_count": 57,
   "metadata": {},
   "outputs": [
    {
     "data": {
      "text/plain": [
       "array([1.6336])"
      ]
     },
     "execution_count": 57,
     "metadata": {},
     "output_type": "execute_result"
    }
   ],
   "source": [
    "value_1 + value_2 + value_3 + value_4"
   ]
  },
  {
   "cell_type": "code",
   "execution_count": 58,
   "metadata": {},
   "outputs": [],
   "source": [
    "target_x = 2.7\n",
    "diff = ((target_x - x) > 0) * (target_x - x)\n",
    "diff += ((target_x - x) <= 0) * (np.max(diff) + 1)\n",
    "\n",
    "idx = np.argmin(diff)"
   ]
  },
  {
   "cell_type": "code",
   "execution_count": 59,
   "metadata": {},
   "outputs": [
    {
     "data": {
      "text/plain": [
       "1"
      ]
     },
     "execution_count": 59,
     "metadata": {},
     "output_type": "execute_result"
    }
   ],
   "source": [
    "idx"
   ]
  },
  {
   "cell_type": "code",
   "execution_count": 60,
   "metadata": {},
   "outputs": [
    {
     "data": {
      "text/plain": [
       "array([0.75966667])"
      ]
     },
     "execution_count": 60,
     "metadata": {},
     "output_type": "execute_result"
    }
   ],
   "source": [
    "value_1 = M[idx] * ((-3) * ((x[idx+1] - target_x) ** 2) + h) / 6\n",
    "value_2 = -1 * f_x[idx] / h\n",
    "value_3 = M[idx + 1] * ((-3) * ((target_x - x[idx]) ** 2) - h) / 6\n",
    "value_4 = f_x[idx + 1] / h\n",
    "\n",
    "value_1 + value_2 + value_3 + value_4"
   ]
  },
  {
   "cell_type": "code",
   "execution_count": 61,
   "metadata": {},
   "outputs": [],
   "source": [
    "def get_arg(target_x, X):\n",
    "    diff = X - target_x\n",
    "    arg_min = np.argsort(diff)\n",
    "\n",
    "    for i in arg_min:\n",
    "        if diff[i] >= 0:\n",
    "            if i - 1 >= 0:\n",
    "                return i - 1\n",
    "            else:\n",
    "                return 0"
   ]
  },
  {
   "cell_type": "code",
   "execution_count": 62,
   "metadata": {},
   "outputs": [],
   "source": [
    "def poly_val(M, x, f_x, target_x):\n",
    "    idx = get_arg(target_x, x)\n",
    "\n",
    "    value_1 = (\n",
    "        M[idx] * (((x[idx + 1] - target_x) ** 3) / h - h * (x[idx + 1] - target_x)) / 6\n",
    "    )\n",
    "    value_2 = f_x[idx] * (x[idx + 1] - target_x) / h\n",
    "    value_3 = (\n",
    "        M[idx + 1] * (((target_x - x[idx]) ** 3) / h - h * (target_x - x[idx])) / 6\n",
    "    )\n",
    "    value_4 = f_x[idx + 1] * (target_x - x[idx]) / h\n",
    "\n",
    "    return value_1 + value_2 + value_3 + value_4"
   ]
  },
  {
   "cell_type": "code",
   "execution_count": 64,
   "metadata": {},
   "outputs": [
    {
     "data": {
      "text/plain": [
       "array([1.6336])"
      ]
     },
     "execution_count": 64,
     "metadata": {},
     "output_type": "execute_result"
    }
   ],
   "source": [
    "poly_val(M, x, f_x, 1.2)"
   ]
  },
  {
   "cell_type": "code",
   "execution_count": 65,
   "metadata": {},
   "outputs": [
    {
     "data": {
      "text/plain": [
       "0.666666666666667"
      ]
     },
     "execution_count": 65,
     "metadata": {},
     "output_type": "execute_result"
    }
   ],
   "source": [
    "slope_val(M, x, f_x, 1)"
   ]
  },
  {
   "cell_type": "code",
   "execution_count": 66,
   "metadata": {},
   "outputs": [],
   "source": [
    "def get_arg_mul(target_x, X):\n",
    "    diff = np.ndarray((target_x.shape[0], X.shape[0]))\n",
    "    for i in range(target_x.shape[0]):\n",
    "        diff[i] = X - target_x[i]\n",
    "\n",
    "    arg_min = np.argsort(diff, axis = 1)\n",
    "    res = np.ndarray((target_x.shape[0]))\n",
    "\n",
    "    for i in range(arg_min.shape[0]):\n",
    "        for j in range(arg_min.shape[1]):\n",
    "            if diff[i, j] >= 0:\n",
    "                if j - 1 >= 0:\n",
    "                    res[i] = j - 1\n",
    "                else:\n",
    "                    res[i] = 0\n",
    "                break\n",
    "    \n",
    "    return res.astype(np.int32)\n"
   ]
  },
  {
   "cell_type": "code",
   "execution_count": 67,
   "metadata": {},
   "outputs": [],
   "source": [
    "def poly_val_mul(M, x, f_x, target_x):\n",
    "    idx = get_arg_mul(target_x, x)\n",
    "    M = M.T.squeeze()\n",
    "    value_1 = (\n",
    "        M[idx] * (((x[idx + 1] - target_x) ** 3) / h - h * (x[idx + 1] - target_x)) / 6\n",
    "    )\n",
    "    value_2 = f_x[idx] * (x[idx + 1] - target_x) / h\n",
    "    value_3 = (\n",
    "        M[idx + 1] * (((target_x - x[idx]) ** 3) / h - h * (target_x - x[idx])) / 6\n",
    "    )\n",
    "    value_4 = f_x[idx + 1] * (target_x - x[idx]) / h\n",
    "\n",
    "    return value_1 + value_2 + value_3 + value_4"
   ]
  },
  {
   "cell_type": "code",
   "execution_count": 68,
   "metadata": {},
   "outputs": [
    {
     "data": {
      "text/plain": [
       "array([0, 2, 1])"
      ]
     },
     "execution_count": 68,
     "metadata": {},
     "output_type": "execute_result"
    }
   ],
   "source": [
    "get_arg_mul(np.array([1.2, 3.3, 2.4]), x)"
   ]
  },
  {
   "cell_type": "code",
   "execution_count": 69,
   "metadata": {},
   "outputs": [
    {
     "data": {
      "text/plain": [
       "array([1.6336, 1.7009, 2.5248])"
      ]
     },
     "execution_count": 69,
     "metadata": {},
     "output_type": "execute_result"
    }
   ],
   "source": [
    "poly_val_mul(M, x, f_x, np.array([1.2, 1.3, 2.4]))"
   ]
  },
  {
   "cell_type": "code",
   "execution_count": 70,
   "metadata": {},
   "outputs": [
    {
     "data": {
      "text/plain": [
       "array([1.7688])"
      ]
     },
     "execution_count": 70,
     "metadata": {},
     "output_type": "execute_result"
    }
   ],
   "source": [
    "poly_val(M, x, f_x, 1.4)"
   ]
  },
  {
   "cell_type": "code",
   "execution_count": 71,
   "metadata": {},
   "outputs": [
    {
     "data": {
      "text/plain": [
       "(array([[0. ],\n",
       "        [0.2],\n",
       "        [0.4],\n",
       "        [0. ]]),\n",
       " array([[1., 0., 0., 0.],\n",
       "        [1., 4., 1., 0.],\n",
       "        [0., 1., 4., 1.],\n",
       "        [0., 0., 0., 1.]]),\n",
       " array([[0. ],\n",
       "        [1.2],\n",
       "        [1.8],\n",
       "        [0. ]]))"
      ]
     },
     "execution_count": 71,
     "metadata": {},
     "output_type": "execute_result"
    }
   ],
   "source": [
    "M, A, D"
   ]
  },
  {
   "cell_type": "code",
   "execution_count": 72,
   "metadata": {},
   "outputs": [],
   "source": [
    "x = np.array([1, 2, 3, 4])\n",
    "f_x = np.array([1.5, 2.2, 3.1, 4.3])\n",
    "M_0, M_n = 0, 0\n",
    "h = 2 - 1\n",
    "\n",
    "A = np.zeros((len(x), len(x)))\n",
    "A[0, 0] = 1\n",
    "A[-1, -1] = 1\n",
    "\n",
    "for i in range(1, n - 1):\n",
    "    A[i, i - 1 : i + 2] = np.array([1, 4, 1])\n",
    "\n",
    "B = D.copy()"
   ]
  },
  {
   "cell_type": "code",
   "execution_count": 73,
   "metadata": {},
   "outputs": [],
   "source": [
    "for i in range(1, A.shape[0]):\n",
    "    temp =  A[i, i - 1] / A[i-1, i-1]\n",
    "    A[i, :] -= A[i-1, :] * temp\n",
    "    B[i, :] -= B[i-1, :] * temp\n",
    "\n",
    "    temp = A[i, i]\n",
    "    A[i, :] /= temp\n",
    "    B[i, :] /= temp"
   ]
  },
  {
   "cell_type": "code",
   "execution_count": 74,
   "metadata": {},
   "outputs": [
    {
     "data": {
      "text/plain": [
       "(array([[1.        , 0.        , 0.        , 0.        ],\n",
       "        [0.        , 1.        , 0.25      , 0.        ],\n",
       "        [0.        , 0.        , 1.        , 0.26666667],\n",
       "        [0.        , 0.        , 0.        , 1.        ]]),\n",
       " array([[0. ],\n",
       "        [0.3],\n",
       "        [0.4],\n",
       "        [0. ]]))"
      ]
     },
     "execution_count": 74,
     "metadata": {},
     "output_type": "execute_result"
    }
   ],
   "source": [
    "A, B"
   ]
  },
  {
   "cell_type": "code",
   "execution_count": 75,
   "metadata": {},
   "outputs": [],
   "source": [
    "res = np.ndarray(B.shape)\n",
    "res[-1] = B[-1]\n",
    "\n",
    "for i in reversed(range(A.shape[0] - 1)):\n",
    "    res[i] = B[i] - A[i, i+1] * res[i+1]"
   ]
  },
  {
   "cell_type": "code",
   "execution_count": 76,
   "metadata": {},
   "outputs": [
    {
     "data": {
      "text/plain": [
       "array([[0. ],\n",
       "       [0.2],\n",
       "       [0.4],\n",
       "       [0. ]])"
      ]
     },
     "execution_count": 76,
     "metadata": {},
     "output_type": "execute_result"
    }
   ],
   "source": [
    "res"
   ]
  },
  {
   "cell_type": "code",
   "execution_count": 77,
   "metadata": {},
   "outputs": [],
   "source": [
    "def thomas_algorithm(A, D):\n",
    "    for i in range(1, A.shape[0]):\n",
    "        temp =  A[i, i - 1] / A[i-1, i-1]\n",
    "        A[i, :] -= A[i-1, :] * temp\n",
    "        D[i, :] -= D[i-1, :] * temp\n",
    "\n",
    "        temp = A[i, i]\n",
    "        A[i, :] /= temp\n",
    "        D[i, :] /= temp\n",
    "\n",
    "    res = np.ndarray(D.shape)\n",
    "    res[-1] = D[-1]\n",
    "\n",
    "    for i in reversed(range(A.shape[0] - 1)):\n",
    "        res[i] = D[i] - A[i, i+1] * res[i+1]\n",
    "\n",
    "    return res"
   ]
  },
  {
   "cell_type": "code",
   "execution_count": 78,
   "metadata": {},
   "outputs": [],
   "source": [
    "def form_tri_dia_system(x, f_x, M_0 = 0, M_n = 0):\n",
    "    h = x[1] - x[0]\n",
    "    n = len(x)\n",
    "    A = np.zeros((len(x), len(x)))\n",
    "    A[0, 0] = 1\n",
    "    A[-1, -1] = 1\n",
    "\n",
    "    for i in range(1, n - 1):\n",
    "        A[i, i - 1 : i + 2] = np.array([1, 4, 1])\n",
    "\n",
    "    D = np.zeros((len(x), 1))\n",
    "    D[0][0], D[-1][0] = M_0, M_n\n",
    "    for i in range(1, n - 1):\n",
    "        D[i][0] = 6 * (f_x[i + 1] - 2 * f_x[i] + f_x[i - 1]) / (h**2)\n",
    "\n",
    "    return A, D"
   ]
  },
  {
   "cell_type": "code",
   "execution_count": 79,
   "metadata": {},
   "outputs": [],
   "source": [
    "M = thomas_algorithm(*form_tri_dia_system(x, f_x))"
   ]
  },
  {
   "cell_type": "code",
   "execution_count": 80,
   "metadata": {},
   "outputs": [
    {
     "data": {
      "text/plain": [
       "(array([[1., 0., 0., 0.],\n",
       "        [1., 4., 1., 0.],\n",
       "        [0., 1., 4., 1.],\n",
       "        [0., 0., 0., 1.]]),\n",
       " array([[0. ],\n",
       "        [1.2],\n",
       "        [1.8],\n",
       "        [0. ]]))"
      ]
     },
     "execution_count": 80,
     "metadata": {},
     "output_type": "execute_result"
    }
   ],
   "source": [
    "form_tri_dia_system(x, f_x)"
   ]
  },
  {
   "cell_type": "code",
   "execution_count": 81,
   "metadata": {},
   "outputs": [
    {
     "data": {
      "text/plain": [
       "<matplotlib.collections.PathCollection at 0x2122f514cd0>"
      ]
     },
     "execution_count": 81,
     "metadata": {},
     "output_type": "execute_result"
    },
    {
     "data": {
      "image/png": "[encoded data removed]",
      "text/plain": [
       "<Figure size 640x480 with 1 Axes>"
      ]
     },
     "metadata": {},
     "output_type": "display_data"
    }
   ],
   "source": [
    "X = np.linspace(1, 4, 10_000)\n",
    "plt.plot(X, poly_val_mul(M, x, f_x, X))\n",
    "plt.scatter(x, f_x, c='red')"
   ]
  },
  {
   "cell_type": "code",
   "execution_count": 82,
   "metadata": {},
   "outputs": [],
   "source": [
    "x = np.linspace(0, 5, 6)\n",
    "f_x = np.exp(x) - x**3"
   ]
  },
  {
   "cell_type": "code",
   "execution_count": 83,
   "metadata": {},
   "outputs": [
    {
     "data": {
      "text/plain": [
       "<matplotlib.collections.PathCollection at 0x2122f4b9a10>"
      ]
     },
     "execution_count": 83,
     "metadata": {},
     "output_type": "execute_result"
    },
    {
     "data": {
      "image/png": "[encoded data removed]",
      "text/plain": [
       "<Figure size 640x480 with 1 Axes>"
      ]
     },
     "metadata": {},
     "output_type": "display_data"
    }
   ],
   "source": [
    "M = thomas_algorithm(*form_tri_dia_system(x, f_x, 1, np.exp(5) - 30))\n",
    "X = np.linspace(0, 5, 10_000)\n",
    "plt.plot(X, poly_val_mul(M, x, f_x, X))\n",
    "plt.scatter(x, f_x, c='red')"
   ]
  },
  {
   "cell_type": "code",
   "execution_count": 107,
   "metadata": {},
   "outputs": [],
   "source": [
    "def slope_val(M, x, f_x, target_x):\n",
    "    idx = get_arg(target_x, x)\n",
    "    M = M.squeeze()\n",
    "    h = x[1] - x[0]\n",
    "    value_1 = M[idx] * ((-3) * ((x[idx + 1] - target_x) ** 2) + h) / 6\n",
    "    value_2 = -1 * f_x[idx] / h\n",
    "    value_3 = M[idx + 1] * ((-3) * ((target_x - x[idx]) ** 2) - h) / 6\n",
    "    value_4 = f_x[idx + 1] / h\n",
    "\n",
    "    return value_1 + value_2 + value_3 + value_4"
   ]
  },
  {
   "cell_type": "code",
   "execution_count": 111,
   "metadata": {},
   "outputs": [
    {
     "data": {
      "text/plain": [
       "(0.568656666666667, 0.7686366666666666)"
      ]
     },
     "execution_count": 111,
     "metadata": {},
     "output_type": "execute_result"
    }
   ],
   "source": [
    "x = np.array([1, 2, 3, 4])\n",
    "f_x = np.array([1.5, 2.2, 3.1, 4.3])\n",
    "M_0, M_n = 0, 0\n",
    "h = 2 - 1\n",
    "\n",
    "M = thomas_algorithm(*form_tri_dia_system(x, f_x))\n",
    "\n",
    "slope_val(M, x, f_x, 1.99), slope_val(M, x, f_x, 2.01)"
   ]
  },
  {
   "cell_type": "code",
   "execution_count": null,
   "metadata": {},
   "outputs": [],
   "source": [
    "def slope_val_mul(M, x, f_x, target_x):\n",
    "    idx = get_arg_mul(target_x, x)\n",
    "    h = x[1] - x[0]\n",
    "    M = M.T.squeeze()\n",
    "    value_1 = M[idx] * ((-3) * ((x[idx + 1] - target_x) ** 2) + h) / 6\n",
    "    value_2 = -1 * f_x[idx] / h\n",
    "    value_3 = M[idx + 1] * ((-3) * ((target_x - x[idx]) ** 2) - h) / 6\n",
    "    value_4 = f_x[idx + 1] / h\n",
    "\n",
    "    return value_1 + value_2 + value_3 + value_4"
   ]
  },
  {
   "cell_type": "code",
   "execution_count": null,
   "metadata": {},
   "outputs": [
    {
     "data": {
      "text/plain": [
       "array([-6.55829694, -8.18302763,  3.29951319])"
      ]
     },
     "execution_count": 40,
     "metadata": {},
     "output_type": "execute_result"
    }
   ],
   "source": [
    "slope_val_mul(M, x, f_x, np.array([2.4, 3.4, 4.4]))"
   ]
  },
  {
   "cell_type": "code",
   "execution_count": null,
   "metadata": {},
   "outputs": [],
   "source": []
  }
 ],
 "metadata": {
  "kernelspec": {
   "display_name": "maths",
   "language": "python",
   "name": "python3"
  },
  "language_info": {
   "codemirror_mode": {
    "name": "ipython",
    "version": 3
   },
   "file_extension": ".py",
   "mimetype": "text/x-python",
   "name": "python",
   "nbconvert_exporter": "python",
   "pygments_lexer": "ipython3",
   "version": "3.11.4"
  }
 },
 "nbformat": 4,
 "nbformat_minor": 2
}
