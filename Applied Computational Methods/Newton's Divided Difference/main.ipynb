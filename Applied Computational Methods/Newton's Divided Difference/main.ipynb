{
 "cells": [
  {
   "cell_type": "code",
   "execution_count": 1,
   "metadata": {},
   "outputs": [],
   "source": [
    "import numpy as np\n",
    "from matplotlib import pyplot as plt\n",
    "import math"
   ]
  },
  {
   "cell_type": "code",
   "execution_count": 2,
   "metadata": {},
   "outputs": [],
   "source": [
    "def get_coeff(x, f_x):\n",
    "    n = len(x)\n",
    "    div_diff = np.zeros((n, n))\n",
    "\n",
    "    div_diff[:, 0] += f_x.T\n",
    "\n",
    "    for j in range(1, n):\n",
    "        for i in range(j, n):\n",
    "            div_diff[i][j] = (div_diff[i][j - 1] - div_diff[i - 1][j - 1]) / (\n",
    "                x[i] - x[i - 1]\n",
    "            )\n",
    "\n",
    "    return np.array([div_diff[i][i] for i in range(n)])"
   ]
  },
  {
   "cell_type": "code",
   "execution_count": 3,
   "metadata": {},
   "outputs": [],
   "source": [
    "def get_poly_val(coeff, target_x, x):\n",
    "    n = len(coeff)\n",
    "    est_value = coeff[0]\n",
    "    product = 1\n",
    "    for i in range(1, n):\n",
    "        product *= target_x - x[i - 1]\n",
    "        term = coeff[i] * product / math.factorial(i)\n",
    "        est_value += term\n",
    "\n",
    "    return est_value"
   ]
  },
  {
   "cell_type": "code",
   "execution_count": 4,
   "metadata": {},
   "outputs": [],
   "source": [
    "def get_poly_multiple(X, coeff, x):\n",
    "    res = np.zeros(X.shape) + coeff[0]\n",
    "    product = np.ones(X.shape)\n",
    "\n",
    "    for i in range(1, len(coeff)):\n",
    "        product *= X - x[i - 1]\n",
    "        term = coeff[i] * product / math.factorial(i)\n",
    "        res += term\n",
    "\n",
    "    return res"
   ]
  },
  {
   "cell_type": "code",
   "execution_count": 5,
   "metadata": {},
   "outputs": [
    {
     "name": "stdout",
     "output_type": "stream",
     "text": [
      "[2. 1. 1.]\n"
     ]
    }
   ],
   "source": [
    "x = np.array([1, 2, 3])\n",
    "f_x = np.array([2, 3, 5])\n",
    "\n",
    "target_x = 2.51\n",
    "coeff = get_coeff(x, f_x)\n",
    "est_value = get_poly_val(coeff, target_x, x)\n",
    "\n",
    "print(coeff)"
   ]
  },
  {
   "cell_type": "code",
   "execution_count": 6,
   "metadata": {},
   "outputs": [
    {
     "name": "stdout",
     "output_type": "stream",
     "text": [
      "Exact Value of f(4.5) = 71.375\n",
      "Estimated Value of f(4.5) = 3.8950499999999995\n",
      "Error in estimation = 67.47995\n"
     ]
    }
   ],
   "source": [
    "print(\"Exact Value of f(4.5) =\", 71.375)\n",
    "print(\"Estimated Value of f(4.5) =\", est_value)\n",
    "print(\"Error in estimation =\", np.abs(est_value - 71.375))"
   ]
  },
  {
   "cell_type": "code",
   "execution_count": 7,
   "metadata": {},
   "outputs": [
    {
     "data": {
      "image/png": "[encoded data removed]",
      "text/plain": [
       "<Figure size 640x480 with 1 Axes>"
      ]
     },
     "metadata": {},
     "output_type": "display_data"
    }
   ],
   "source": [
    "X = np.linspace(x[0], x[-1], 10_000)\n",
    "plt.plot(X, get_poly_multiple(X, coeff, x))\n",
    "plt.scatter(x, f_x)\n",
    "plt.scatter(target_x, est_value, c=\"red\")\n",
    "plt.show()"
   ]
  },
  {
   "cell_type": "code",
   "execution_count": 12,
   "metadata": {},
   "outputs": [
    {
     "data": {
      "text/plain": [
       "array([[7, 7, 5, 1, 3],\n",
       "       [4, 1, 7, 3, 7],\n",
       "       [8, 7, 7, 8, 5],\n",
       "       [4, 3, 5, 1, 4],\n",
       "       [7, 9, 8, 4, 4]])"
      ]
     },
     "execution_count": 12,
     "metadata": {},
     "output_type": "execute_result"
    }
   ],
   "source": [
    "n  = 5\n",
    "div_diff = np.random.randint(1, 10, (n, n))\n",
    "x = [1, 2, 3]\n",
    "n_new = n + len(x)\n",
    "new_div_diff = np.zeros((n_new, n_new))\n",
    "\n",
    "new_div_diff[:n, :n] += div_diff\n",
    "div_diff"
   ]
  },
  {
   "cell_type": "code",
   "execution_count": 13,
   "metadata": {},
   "outputs": [
    {
     "data": {
      "text/plain": [
       "array([[7., 7., 5., 1., 3., 0., 0., 0.],\n",
       "       [4., 1., 7., 3., 7., 0., 0., 0.],\n",
       "       [8., 7., 7., 8., 5., 0., 0., 0.],\n",
       "       [4., 3., 5., 1., 4., 0., 0., 0.],\n",
       "       [7., 9., 8., 4., 4., 0., 0., 0.],\n",
       "       [0., 0., 0., 0., 0., 0., 0., 0.],\n",
       "       [0., 0., 0., 0., 0., 0., 0., 0.],\n",
       "       [0., 0., 0., 0., 0., 0., 0., 0.]])"
      ]
     },
     "execution_count": 13,
     "metadata": {},
     "output_type": "execute_result"
    }
   ],
   "source": [
    "new_div_diff"
   ]
  },
  {
   "cell_type": "code",
   "execution_count": 15,
   "metadata": {},
   "outputs": [
    {
     "data": {
      "text/plain": [
       "array([[7., 7., 5., 1., 3., 0., 0., 0.],\n",
       "       [4., 1., 7., 3., 7., 0., 0., 0.],\n",
       "       [8., 7., 7., 8., 5., 0., 0., 0.],\n",
       "       [4., 3., 5., 1., 4., 0., 0., 0.],\n",
       "       [7., 9., 8., 4., 4., 0., 0., 0.],\n",
       "       [0., 0., 0., 0., 0., 0., 0., 0.],\n",
       "       [0., 0., 0., 0., 0., 0., 0., 0.],\n",
       "       [0., 0., 0., 0., 0., 0., 0., 0.]])"
      ]
     },
     "execution_count": 15,
     "metadata": {},
     "output_type": "execute_result"
    }
   ],
   "source": [
    "div_diff = np.append(div_diff, np.zeros((len(x), n)), 0)\n",
    "div_diff = np.append(div_diff, np.zeros((n + len(x), len(x))), 1)\n",
    "div_diff"
   ]
  },
  {
   "cell_type": "code",
   "execution_count": 23,
   "metadata": {},
   "outputs": [
    {
     "data": {
      "text/plain": [
       "array([[3., 3., 5., 8., 7., 0., 0., 0.],\n",
       "       [3., 6., 5., 9., 6., 0., 0., 0.],\n",
       "       [5., 7., 2., 9., 8., 0., 0., 0.],\n",
       "       [3., 3., 3., 3., 9., 0., 0., 0.],\n",
       "       [5., 7., 9., 4., 6., 0., 0., 0.],\n",
       "       [1., 0., 0., 0., 0., 0., 0., 0.],\n",
       "       [2., 0., 0., 0., 0., 0., 0., 0.],\n",
       "       [3., 0., 0., 0., 0., 0., 0., 0.]])"
      ]
     },
     "execution_count": 23,
     "metadata": {},
     "output_type": "execute_result"
    }
   ],
   "source": [
    "new_div_diff"
   ]
  },
  {
   "cell_type": "code",
   "execution_count": 17,
   "metadata": {},
   "outputs": [],
   "source": [
    "x = np.array([1, 2, 3, 4, 5, 6])\n",
    "f_x = np.array([14.5, 19.5, 30.5, 53.5, 94.5, 159.5])\n",
    "\n",
    "x_new = [7, 8]\n",
    "f_x_new = [180.5, 219.5]\n",
    "\n",
    "x = np.append(x, np.array(x_new), 0)\n",
    "f_x = np.append(f_x, np.array(f_x_new), 0)"
   ]
  },
  {
   "cell_type": "code",
   "execution_count": null,
   "metadata": {},
   "outputs": [],
   "source": []
  }
 ],
 "metadata": {
  "kernelspec": {
   "display_name": "maths",
   "language": "python",
   "name": "python3"
  },
  "language_info": {
   "codemirror_mode": {
    "name": "ipython",
    "version": 3
   },
   "file_extension": ".py",
   "mimetype": "text/x-python",
   "name": "python",
   "nbconvert_exporter": "python",
   "pygments_lexer": "ipython3",
   "version": "3.11.4"
  }
 },
 "nbformat": 4,
 "nbformat_minor": 2
}
