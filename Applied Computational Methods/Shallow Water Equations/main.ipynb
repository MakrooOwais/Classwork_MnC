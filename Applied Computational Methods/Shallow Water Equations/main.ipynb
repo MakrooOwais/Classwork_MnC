{
 "cells": [
  {
   "cell_type": "code",
   "execution_count": 1,
   "metadata": {},
   "outputs": [],
   "source": [
    "import numpy as np\n",
    "from matplotlib import pyplot as plt"
   ]
  },
  {
   "cell_type": "code",
   "execution_count": 7,
   "metadata": {},
   "outputs": [],
   "source": [
    "delta_X = 1e-2\n",
    "T = 10\n",
    "delta_T = 3e-2\n",
    "a, b = 0, 5\n",
    "g = 9.81\n",
    "base = 1\n",
    "\n",
    "N = int((b-a)/delta_X) + 1\n",
    "\n",
    "def h_0(x):\n",
    "    return np.exp(-10 * (x-2)**2) + 1\n",
    "    # return (x >= 2.5) + (x < 2.5) * 2\n",
    "\n",
    "def u_0(x):\n",
    "    return np.zeros(x.shape)\n",
    "\n",
    "def F(U):\n",
    "    if U[0]:\n",
    "        return np.array([U[1], ((U[1]**2) / U[0]) + g * (U[0]**2) / 2])\n",
    "    else:\n",
    "        return np.array([0, 0])\n",
    "    \n",
    "def eig_val(U):\n",
    "    if U[0]:\n",
    "        return np.array([(U[1] / U[0]) + np.sqrt(g * np.abs(U[0])), (U[1] / U[0]) + np.sqrt(g * np.abs(U[0]))])\n",
    "    else:\n",
    "        return np.array([0, 0])\n",
    "    \n",
    "def delta_T(U, delta_X = delta_X):\n",
    "    time = list()\n",
    "    for i in range(1, len(U) - 1):\n",
    "        t = eig_val(U[i])\n",
    "        t = np.max(np.abs(t)) *0.99\n",
    "        if t:\n",
    "            t = delta_X / t\n",
    "            time.append(t)\n",
    "\n",
    "    delta_T = np.min(np.array(time))\n",
    "    return delta_T"
   ]
  },
  {
   "cell_type": "code",
   "execution_count": 8,
   "metadata": {},
   "outputs": [],
   "source": [
    "N = int((b-a) / delta_X) + 1\n",
    "X = np.linspace(a, b, N)"
   ]
  },
  {
   "cell_type": "code",
   "execution_count": null,
   "metadata": {},
   "outputs": [],
   "source": []
  },
  {
   "cell_type": "code",
   "execution_count": 9,
   "metadata": {},
   "outputs": [],
   "source": [
    "U_t = [np.array([h_0(X), u_0(X)]).T]\n",
    "current_time = 0.0\n",
    "\n",
    "while current_time < T:\n",
    "    U_0 = U_t[-1]\n",
    "    del_T = delta_T(U_0)\n",
    "    # U_1 = [np.array([base,base])]\n",
    "    U_1 = list()\n",
    "\n",
    "    for i in range(1, N-1):\n",
    "        U_1.append(((U_0[i+1] + U_0[i-1]) / 2) - (del_T * (F(U_0[i+1]) - F(U_0[i-1])) / (2*delta_X)))\n",
    "    U_1.insert(0, U_1[0])\n",
    "    U_1.append(U_1[-1])\n",
    "    # U_1.append(np.array([base,base]))\n",
    "    current_time += del_T\n",
    "\n",
    "    U_t.append(np.array(U_1))\n"
   ]
  },
  {
   "cell_type": "code",
   "execution_count": 10,
   "metadata": {},
   "outputs": [
    {
     "data": {
      "image/png": "[encoded data removed]",
      "text/plain": [
       "<Figure size 640x480 with 1 Axes>"
      ]
     },
     "metadata": {},
     "output_type": "display_data"
    }
   ],
   "source": [
    "for i, U in enumerate(U_t):\n",
    "    if i % 10 == 0:\n",
    "        plt.cla()\n",
    "        plt.plot(X, np.array(U)[:, 0])\n",
    "        plt.savefig(f\"graphs/{i}.png\")"
   ]
  },
  {
   "cell_type": "code",
   "execution_count": 11,
   "metadata": {},
   "outputs": [
    {
     "data": {
      "text/plain": [
       "3251"
      ]
     },
     "execution_count": 11,
     "metadata": {},
     "output_type": "execute_result"
    }
   ],
   "source": [
    "len(U_t)"
   ]
  },
  {
   "cell_type": "code",
   "execution_count": null,
   "metadata": {},
   "outputs": [],
   "source": []
  }
 ],
 "metadata": {
  "kernelspec": {
   "display_name": "base",
   "language": "python",
   "name": "python3"
  },
  "language_info": {
   "codemirror_mode": {
    "name": "ipython",
    "version": 3
   },
   "file_extension": ".py",
   "mimetype": "text/x-python",
   "name": "python",
   "nbconvert_exporter": "python",
   "pygments_lexer": "ipython3",
   "version": "3.11.7"
  }
 },
 "nbformat": 4,
 "nbformat_minor": 2
}
