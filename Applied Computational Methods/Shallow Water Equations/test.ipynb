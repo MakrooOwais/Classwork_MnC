{
 "cells": [
  {
   "cell_type": "code",
   "execution_count": 4,
   "metadata": {},
   "outputs": [],
   "source": [
    "import numpy as np\n",
    "import matplotlib.pyplot as plt\n",
    "from scipy.integrate import odeint"
   ]
  },
  {
   "cell_type": "code",
   "execution_count": 5,
   "metadata": {},
   "outputs": [],
   "source": [
    "L = 10.0         # length of the domain (m)\n",
    "nx = 101         # number of spatial grid points\n",
    "dx = L / (nx-1)  # spatial step size (m)\n",
    "x = np.linspace(0, L, nx)  # spatial grid"
   ]
  },
  {
   "cell_type": "code",
   "execution_count": 11,
   "metadata": {},
   "outputs": [],
   "source": [
    "h0 = np.exp(-10 * (x-2)**2)  # initial depth of water (m)\n",
    "u0 = 0.0  # initial velocity of water (m/s)\n",
    "g = 9.81  # acceleration due to gravity (m/s^2)\n",
    "\n",
    "# initial condition vector\n",
    "y0 = np.zeros(2*nx)\n",
    "y0[:nx] = h0\n",
    "y0[nx:] = u0"
   ]
  },
  {
   "cell_type": "code",
   "execution_count": 12,
   "metadata": {},
   "outputs": [
    {
     "data": {
      "text/plain": [
       "array([4.24835426e-018, 2.09879105e-016, 8.48904403e-015, 2.81118530e-013,\n",
       "       7.62186519e-012, 1.69189792e-010, 3.07487988e-009, 4.57533877e-008,\n",
       "       5.57390369e-007, 5.55951324e-006, 4.53999298e-005, 3.03539138e-004,\n",
       "       1.66155727e-003, 7.44658307e-003, 2.73237224e-002, 8.20849986e-002,\n",
       "       2.01896518e-001, 4.06569660e-001, 6.70320046e-001, 9.04837418e-001,\n",
       "       1.00000000e+000, 9.04837418e-001, 6.70320046e-001, 4.06569660e-001,\n",
       "       2.01896518e-001, 8.20849986e-002, 2.73237224e-002, 7.44658307e-003,\n",
       "       1.66155727e-003, 3.03539138e-004, 4.53999298e-005, 5.55951324e-006,\n",
       "       5.57390369e-007, 4.57533877e-008, 3.07487988e-009, 1.69189792e-010,\n",
       "       7.62186519e-012, 2.81118530e-013, 8.48904403e-015, 2.09879105e-016,\n",
       "       4.24835426e-018, 7.04065961e-020, 9.55316054e-022, 1.06126027e-023,\n",
       "       9.65245626e-026, 7.18778174e-028, 4.38220836e-030, 2.18742046e-032,\n",
       "       8.93948745e-035, 2.99112162e-037, 8.19401262e-040, 1.83780864e-042,\n",
       "       3.37477679e-045, 5.07377169e-048, 6.24536596e-051, 6.29398882e-054,\n",
       "       5.19320116e-057, 3.50820875e-060, 1.94033543e-063, 8.78636625e-067,\n",
       "       3.25748853e-070, 9.88775261e-074, 2.45727291e-077, 4.99977311e-081,\n",
       "       8.32891258e-085, 1.13597144e-088, 1.26849170e-092, 1.15970879e-096,\n",
       "       8.68063248e-101, 5.31979498e-105, 2.66919022e-109, 1.09649147e-113,\n",
       "       3.68784019e-118, 1.01550025e-122, 2.28943900e-127, 4.22590008e-132,\n",
       "       6.38631705e-137, 7.90174171e-142, 8.00453831e-147, 6.63881932e-152,\n",
       "       4.50802707e-157, 2.50624362e-162, 1.14077805e-167, 4.25128414e-173,\n",
       "       1.29712017e-178, 3.24027146e-184, 6.62710243e-190, 1.10970380e-195,\n",
       "       1.52135851e-201, 1.70764333e-207, 1.56929239e-213, 1.18073292e-219,\n",
       "       7.27345207e-226, 3.66834855e-232, 1.51475261e-238, 5.12099002e-245,\n",
       "       1.41744838e-251, 3.21219336e-258, 5.95987581e-265, 9.05344451e-272,\n",
       "       1.12598235e-278, 0.00000000e+000, 0.00000000e+000, 0.00000000e+000,\n",
       "       0.00000000e+000, 0.00000000e+000, 0.00000000e+000, 0.00000000e+000,\n",
       "       0.00000000e+000, 0.00000000e+000, 0.00000000e+000, 0.00000000e+000,\n",
       "       0.00000000e+000, 0.00000000e+000, 0.00000000e+000, 0.00000000e+000,\n",
       "       0.00000000e+000, 0.00000000e+000, 0.00000000e+000, 0.00000000e+000,\n",
       "       0.00000000e+000, 0.00000000e+000, 0.00000000e+000, 0.00000000e+000,\n",
       "       0.00000000e+000, 0.00000000e+000, 0.00000000e+000, 0.00000000e+000,\n",
       "       0.00000000e+000, 0.00000000e+000, 0.00000000e+000, 0.00000000e+000,\n",
       "       0.00000000e+000, 0.00000000e+000, 0.00000000e+000, 0.00000000e+000,\n",
       "       0.00000000e+000, 0.00000000e+000, 0.00000000e+000, 0.00000000e+000,\n",
       "       0.00000000e+000, 0.00000000e+000, 0.00000000e+000, 0.00000000e+000,\n",
       "       0.00000000e+000, 0.00000000e+000, 0.00000000e+000, 0.00000000e+000,\n",
       "       0.00000000e+000, 0.00000000e+000, 0.00000000e+000, 0.00000000e+000,\n",
       "       0.00000000e+000, 0.00000000e+000, 0.00000000e+000, 0.00000000e+000,\n",
       "       0.00000000e+000, 0.00000000e+000, 0.00000000e+000, 0.00000000e+000,\n",
       "       0.00000000e+000, 0.00000000e+000, 0.00000000e+000, 0.00000000e+000,\n",
       "       0.00000000e+000, 0.00000000e+000, 0.00000000e+000, 0.00000000e+000,\n",
       "       0.00000000e+000, 0.00000000e+000, 0.00000000e+000, 0.00000000e+000,\n",
       "       0.00000000e+000, 0.00000000e+000, 0.00000000e+000, 0.00000000e+000,\n",
       "       0.00000000e+000, 0.00000000e+000, 0.00000000e+000, 0.00000000e+000,\n",
       "       0.00000000e+000, 0.00000000e+000, 0.00000000e+000, 0.00000000e+000,\n",
       "       0.00000000e+000, 0.00000000e+000, 0.00000000e+000, 0.00000000e+000,\n",
       "       0.00000000e+000, 0.00000000e+000, 0.00000000e+000, 0.00000000e+000,\n",
       "       0.00000000e+000, 0.00000000e+000, 0.00000000e+000, 0.00000000e+000,\n",
       "       0.00000000e+000, 0.00000000e+000, 0.00000000e+000, 0.00000000e+000,\n",
       "       0.00000000e+000, 0.00000000e+000])"
      ]
     },
     "execution_count": 12,
     "metadata": {},
     "output_type": "execute_result"
    }
   ],
   "source": [
    "y0"
   ]
  },
  {
   "cell_type": "code",
   "execution_count": 13,
   "metadata": {},
   "outputs": [],
   "source": [
    "def rhs(y, t):\n",
    "    h = y[:nx]\n",
    "    u = y[nx:]\n",
    "\n",
    "    # create right-hand side of ODE system\n",
    "    dydt = np.zeros_like(y)\n",
    "\n",
    "    # derivative of h\n",
    "    dydt[:nx] = -u * (np.roll(h, -1) - np.roll(h, 1)) / (2 * dx)\n",
    "\n",
    "    # derivative of u\n",
    "    dydt[nx:] = -g * (np.roll(h, -1) - np.roll(h, 1)) / (2 * dx) - u * (\n",
    "        np.roll(u, -1) - np.roll(u, 1)\n",
    "    ) / (2 * dx)\n",
    "\n",
    "    return dydt"
   ]
  },
  {
   "cell_type": "code",
   "execution_count": 14,
   "metadata": {},
   "outputs": [
    {
     "name": "stderr",
     "output_type": "stream",
     "text": [
      "/home/owais/anaconda3/envs/machine_learning/lib/python3.11/site-packages/scipy/integrate/_odepack_py.py:248: ODEintWarning: Excess work done on this call (perhaps wrong Dfun type). Run with full_output = 1 to get quantitative information.\n",
      "  warnings.warn(warning_msg, ODEintWarning)\n"
     ]
    }
   ],
   "source": [
    "T = 1.0   # end time (s)\n",
    "dt = 0.01  # time step size (s)\n",
    "t = np.arange(0, T, dt)  # time grid\n",
    "\n",
    "# solve ODE system\n",
    "y = odeint(rhs, y0, t)\n",
    "\n",
    "# extract h and u from solution\n",
    "h = y[:, :nx]\n",
    "u = y[:, nx:]"
   ]
  },
  {
   "cell_type": "code",
   "execution_count": 15,
   "metadata": {},
   "outputs": [
    {
     "ename": "ValueError",
     "evalue": "The truth value of an array with more than one element is ambiguous. Use a.any() or a.all()",
     "output_type": "error",
     "traceback": [
      "\u001b[0;31m---------------------------------------------------------------------------\u001b[0m",
      "\u001b[0;31mValueError\u001b[0m                                Traceback (most recent call last)",
      "Cell \u001b[0;32mIn[15], line 7\u001b[0m\n\u001b[1;32m      5\u001b[0m plt\u001b[38;5;241m.\u001b[39mplot(x, h[i], \u001b[38;5;124m\"\u001b[39m\u001b[38;5;124mb\u001b[39m\u001b[38;5;124m\"\u001b[39m)\n\u001b[1;32m      6\u001b[0m plt\u001b[38;5;241m.\u001b[39mylabel(\u001b[38;5;124m\"\u001b[39m\u001b[38;5;124mWater depth (m)\u001b[39m\u001b[38;5;124m\"\u001b[39m)\n\u001b[0;32m----> 7\u001b[0m \u001b[43mplt\u001b[49m\u001b[38;5;241;43m.\u001b[39;49m\u001b[43mylim\u001b[49m\u001b[43m(\u001b[49m\u001b[43mh0\u001b[49m\u001b[43m \u001b[49m\u001b[38;5;241;43m-\u001b[39;49m\u001b[43m \u001b[49m\u001b[38;5;241;43m0.1\u001b[39;49m\u001b[43m,\u001b[49m\u001b[43m \u001b[49m\u001b[43mh0\u001b[49m\u001b[43m \u001b[49m\u001b[38;5;241;43m+\u001b[39;49m\u001b[43m \u001b[49m\u001b[38;5;241;43m0.1\u001b[39;49m\u001b[43m)\u001b[49m\n\u001b[1;32m      8\u001b[0m plt\u001b[38;5;241m.\u001b[39mtitle(\u001b[38;5;124mf\u001b[39m\u001b[38;5;124m\"\u001b[39m\u001b[38;5;124mt = \u001b[39m\u001b[38;5;132;01m{\u001b[39;00mt[i]\u001b[38;5;132;01m:\u001b[39;00m\u001b[38;5;124m.2f\u001b[39m\u001b[38;5;132;01m}\u001b[39;00m\u001b[38;5;124m s\u001b[39m\u001b[38;5;124m\"\u001b[39m)\n\u001b[1;32m     10\u001b[0m plt\u001b[38;5;241m.\u001b[39msubplot(\u001b[38;5;241m2\u001b[39m, \u001b[38;5;241m1\u001b[39m, \u001b[38;5;241m2\u001b[39m)\n",
      "File \u001b[0;32m~/anaconda3/envs/machine_learning/lib/python3.11/site-packages/matplotlib/pyplot.py:1983\u001b[0m, in \u001b[0;36mylim\u001b[0;34m(*args, **kwargs)\u001b[0m\n\u001b[1;32m   1981\u001b[0m \u001b[38;5;28;01mif\u001b[39;00m \u001b[38;5;129;01mnot\u001b[39;00m args \u001b[38;5;129;01mand\u001b[39;00m \u001b[38;5;129;01mnot\u001b[39;00m kwargs:\n\u001b[1;32m   1982\u001b[0m     \u001b[38;5;28;01mreturn\u001b[39;00m ax\u001b[38;5;241m.\u001b[39mget_ylim()\n\u001b[0;32m-> 1983\u001b[0m ret \u001b[38;5;241m=\u001b[39m \u001b[43max\u001b[49m\u001b[38;5;241;43m.\u001b[39;49m\u001b[43mset_ylim\u001b[49m\u001b[43m(\u001b[49m\u001b[38;5;241;43m*\u001b[39;49m\u001b[43margs\u001b[49m\u001b[43m,\u001b[49m\u001b[43m \u001b[49m\u001b[38;5;241;43m*\u001b[39;49m\u001b[38;5;241;43m*\u001b[39;49m\u001b[43mkwargs\u001b[49m\u001b[43m)\u001b[49m\n\u001b[1;32m   1984\u001b[0m \u001b[38;5;28;01mreturn\u001b[39;00m ret\n",
      "File \u001b[0;32m~/anaconda3/envs/machine_learning/lib/python3.11/site-packages/matplotlib/axes/_base.py:3898\u001b[0m, in \u001b[0;36m_AxesBase.set_ylim\u001b[0;34m(self, bottom, top, emit, auto, ymin, ymax)\u001b[0m\n\u001b[1;32m   3896\u001b[0m         \u001b[38;5;28;01mraise\u001b[39;00m \u001b[38;5;167;01mTypeError\u001b[39;00m(\u001b[38;5;124m\"\u001b[39m\u001b[38;5;124mCannot pass both \u001b[39m\u001b[38;5;124m'\u001b[39m\u001b[38;5;124mtop\u001b[39m\u001b[38;5;124m'\u001b[39m\u001b[38;5;124m and \u001b[39m\u001b[38;5;124m'\u001b[39m\u001b[38;5;124mymax\u001b[39m\u001b[38;5;124m'\u001b[39m\u001b[38;5;124m\"\u001b[39m)\n\u001b[1;32m   3897\u001b[0m     top \u001b[38;5;241m=\u001b[39m ymax\n\u001b[0;32m-> 3898\u001b[0m \u001b[38;5;28;01mreturn\u001b[39;00m \u001b[38;5;28;43mself\u001b[39;49m\u001b[38;5;241;43m.\u001b[39;49m\u001b[43myaxis\u001b[49m\u001b[38;5;241;43m.\u001b[39;49m\u001b[43m_set_lim\u001b[49m\u001b[43m(\u001b[49m\u001b[43mbottom\u001b[49m\u001b[43m,\u001b[49m\u001b[43m \u001b[49m\u001b[43mtop\u001b[49m\u001b[43m,\u001b[49m\u001b[43m \u001b[49m\u001b[43memit\u001b[49m\u001b[38;5;241;43m=\u001b[39;49m\u001b[43memit\u001b[49m\u001b[43m,\u001b[49m\u001b[43m \u001b[49m\u001b[43mauto\u001b[49m\u001b[38;5;241;43m=\u001b[39;49m\u001b[43mauto\u001b[49m\u001b[43m)\u001b[49m\n",
      "File \u001b[0;32m~/anaconda3/envs/machine_learning/lib/python3.11/site-packages/matplotlib/axis.py:1234\u001b[0m, in \u001b[0;36mAxis._set_lim\u001b[0;34m(self, v0, v1, emit, auto)\u001b[0m\n\u001b[1;32m   1231\u001b[0m         _api\u001b[38;5;241m.\u001b[39mwarn_external(\u001b[38;5;124mf\u001b[39m\u001b[38;5;124m\"\u001b[39m\u001b[38;5;124mAttempt to set non-positive \u001b[39m\u001b[38;5;132;01m{\u001b[39;00mname\u001b[38;5;132;01m}\u001b[39;00m\u001b[38;5;124mlim on \u001b[39m\u001b[38;5;124m\"\u001b[39m\n\u001b[1;32m   1232\u001b[0m                            \u001b[38;5;124mf\u001b[39m\u001b[38;5;124m\"\u001b[39m\u001b[38;5;124ma log-scaled axis will be ignored.\u001b[39m\u001b[38;5;124m\"\u001b[39m)\n\u001b[1;32m   1233\u001b[0m         v1 \u001b[38;5;241m=\u001b[39m old1\n\u001b[0;32m-> 1234\u001b[0m \u001b[38;5;28;01mif\u001b[39;00m v0 \u001b[38;5;241m==\u001b[39m v1:\n\u001b[1;32m   1235\u001b[0m     _api\u001b[38;5;241m.\u001b[39mwarn_external(\n\u001b[1;32m   1236\u001b[0m         \u001b[38;5;124mf\u001b[39m\u001b[38;5;124m\"\u001b[39m\u001b[38;5;124mAttempting to set identical low and high \u001b[39m\u001b[38;5;132;01m{\u001b[39;00mname\u001b[38;5;132;01m}\u001b[39;00m\u001b[38;5;124mlims \u001b[39m\u001b[38;5;124m\"\u001b[39m\n\u001b[1;32m   1237\u001b[0m         \u001b[38;5;124mf\u001b[39m\u001b[38;5;124m\"\u001b[39m\u001b[38;5;124mmakes transformation singular; automatically expanding.\u001b[39m\u001b[38;5;124m\"\u001b[39m)\n\u001b[1;32m   1238\u001b[0m reverse \u001b[38;5;241m=\u001b[39m \u001b[38;5;28mbool\u001b[39m(v0 \u001b[38;5;241m>\u001b[39m v1)  \u001b[38;5;66;03m# explicit cast needed for python3.8+np.bool_.\u001b[39;00m\n",
      "\u001b[0;31mValueError\u001b[0m: The truth value of an array with more than one element is ambiguous. Use a.any() or a.all()"
     ]
    },
    {
     "data": {
      "image/png": "[encoded data removed]",
      "text/plain": [
       "<Figure size 1200x600 with 1 Axes>"
      ]
     },
     "metadata": {},
     "output_type": "display_data"
    }
   ],
   "source": [
    "for i in range(0, len(t), 10):\n",
    "    plt.figure(figsize=(12, 6))\n",
    "\n",
    "    plt.subplot(2, 1, 1)\n",
    "    plt.plot(x, h[i], \"b\")\n",
    "    plt.ylabel(\"Water depth (m)\")\n",
    "    plt.ylim(h0 - 0.1, h0 + 0.1)\n",
    "    plt.title(f\"t = {t[i]:.2f} s\")\n",
    "\n",
    "    plt.subplot(2, 1, 2)\n",
    "    plt.plot(x, u[i], \"r\")\n",
    "    plt.xlabel(\"x (m)\")\n",
    "    plt.ylabel(\"Velocity (m/s)\")\n",
    "    plt.ylim(u0 - 0.1, u0 + 0.1)\n",
    "\n",
    "    plt.tight_layout()\n",
    "    plt.show()"
   ]
  },
  {
   "cell_type": "code",
   "execution_count": null,
   "metadata": {},
   "outputs": [],
   "source": []
  }
 ],
 "metadata": {
  "kernelspec": {
   "display_name": "machine_learning",
   "language": "python",
   "name": "python3"
  },
  "language_info": {
   "codemirror_mode": {
    "name": "ipython",
    "version": 3
   },
   "file_extension": ".py",
   "mimetype": "text/x-python",
   "name": "python",
   "nbconvert_exporter": "python",
   "pygments_lexer": "ipython3",
   "version": "3.11.7"
  }
 },
 "nbformat": 4,
 "nbformat_minor": 2
}
